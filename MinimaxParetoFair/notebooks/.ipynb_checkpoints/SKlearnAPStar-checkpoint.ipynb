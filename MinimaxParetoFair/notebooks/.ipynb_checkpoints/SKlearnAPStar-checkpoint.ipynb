{
 "cells": [
  {
   "cell_type": "code",
   "execution_count": 4,
   "metadata": {},
   "outputs": [
    {
     "name": "stderr",
     "output_type": "stream",
     "text": [
      "/Users/martinbertran/anaconda3/lib/python3.7/site-packages/dask/config.py:168: YAMLLoadWarning: calling yaml.load() without Loader=... is deprecated, as the default Loader is unsafe. Please read https://msg.pyyaml.org/load for full details.\n",
      "  data = yaml.load(f.read()) or {}\n"
     ]
    }
   ],
   "source": [
    "%matplotlib inline\n",
    "import numpy as np\n",
    "import matplotlib.pyplot as plt\n",
    "\n",
    "import pandas as pd\n",
    "import os, pickle\n",
    "import sys\n",
    "sys.path.append(\".\")\n",
    "sys.path.append(\"../..\")\n",
    "import MinimaxParetoFair as MMPF"
   ]
  },
  {
   "cell_type": "markdown",
   "metadata": {},
   "source": [
    "# Example of APStar algorithm on top of Linear Logistic Regression on Adult/Gender dataset"
   ]
  },
  {
   "cell_type": "code",
   "execution_count": 5,
   "metadata": {
    "scrolled": true
   },
   "outputs": [
    {
     "ename": "AttributeError",
     "evalue": "module 'MinimaxParetoFair' has no attribute 'datasets_loaders'",
     "output_type": "error",
     "traceback": [
      "\u001b[0;31m---------------------------------------------------------------------------\u001b[0m",
      "\u001b[0;31mAttributeError\u001b[0m                            Traceback (most recent call last)",
      "\u001b[0;32m<ipython-input-5-75168c1a6e1b>\u001b[0m in \u001b[0;36m<module>\u001b[0;34m\u001b[0m\n\u001b[1;32m      2\u001b[0m \u001b[0;34m\u001b[0m\u001b[0m\n\u001b[1;32m      3\u001b[0m     \u001b[0;31m#Load split data\u001b[0m\u001b[0;34m\u001b[0m\u001b[0;34m\u001b[0m\u001b[0;34m\u001b[0m\u001b[0m\n\u001b[0;32m----> 4\u001b[0;31m     \u001b[0mtrain_pd\u001b[0m\u001b[0;34m,\u001b[0m \u001b[0mval_pd\u001b[0m\u001b[0;34m,\u001b[0m \u001b[0mtest_pd\u001b[0m\u001b[0;34m,\u001b[0m \u001b[0mcol_tags\u001b[0m \u001b[0;34m=\u001b[0m \u001b[0mMMPF\u001b[0m\u001b[0;34m.\u001b[0m\u001b[0mdatasets_loaders\u001b[0m\u001b[0;34m.\u001b[0m\u001b[0mload_adult\u001b[0m\u001b[0;34m(\u001b[0m\u001b[0msplit\u001b[0m\u001b[0;34m)\u001b[0m\u001b[0;34m\u001b[0m\u001b[0;34m\u001b[0m\u001b[0m\n\u001b[0m\u001b[1;32m      5\u001b[0m     \u001b[0mdataset_name\u001b[0m \u001b[0;34m=\u001b[0m \u001b[0;34m'adult_gender'\u001b[0m\u001b[0;34m\u001b[0m\u001b[0;34m\u001b[0m\u001b[0m\n\u001b[1;32m      6\u001b[0m     \u001b[0mutility_tag\u001b[0m \u001b[0;34m=\u001b[0m \u001b[0;34m'income-per-year_cat'\u001b[0m\u001b[0;34m\u001b[0m\u001b[0;34m\u001b[0m\u001b[0m\n",
      "\u001b[0;31mAttributeError\u001b[0m: module 'MinimaxParetoFair' has no attribute 'datasets_loaders'"
     ]
    }
   ],
   "source": [
    "for split in range(5):\n",
    "    \n",
    "    #Load split data\n",
    "    train_pd, val_pd, test_pd, col_tags = MMPF.datasets_loaders.load_adult(split)\n",
    "    dataset_name = 'adult_gender'\n",
    "    utility_tag = 'income-per-year_cat'\n",
    "    secret_tag = 'sex_cat'\n",
    "\n",
    "    x_train = train_pd[col_tags].values\n",
    "    y_train = train_pd[utility_tag].values\n",
    "    a_train = train_pd[secret_tag].values\n",
    "\n",
    "    x_val = val_pd[col_tags].values\n",
    "    y_val = val_pd[utility_tag].values\n",
    "    a_val = val_pd[secret_tag].values\n",
    "\n",
    "    x_test = test_pd[col_tags].values\n",
    "    y_test = test_pd[utility_tag].values\n",
    "    a_test = test_pd[secret_tag].values\n",
    "    \n",
    "    a_prior=np.zeros(a_train.max()+1)\n",
    "    for a in range(a_train.max()+1):\n",
    "        a_prior[a] = np.mean(a_train==a)\n",
    "    \n",
    "    #Instantiate logistic regression model\n",
    "    model = MMPF.SKLearn_Balanced_LLR(x_train, y_train, a_train, x_val, y_val, a_val)\n",
    "\n",
    "    # Run algorithm\n",
    "    mua_ini = np.ones(a_val.max()+1)\n",
    "    mua_ini /= mua_ini.sum()\n",
    "    \n",
    "    results = MMPF.base_APSTAR(model,mua_ini ,niter = 200 ,max_patience = 200 ,Kini=1,\n",
    "                        Kmin = 20,alpha = 0.5,verbose = False)\n",
    "    risk_list = results['risk_list']\n",
    "    risk_best_list = results['risk_best_list']\n",
    "    mu_list = results['mu_list']\n",
    "    mu_best_list = results['mu_best_list'] \n",
    "\n",
    "    mu_best= mu_best_list[-1]\n",
    "    model.weighted_fit(x_train,y_train,a_train, mu_best)\n",
    "    \n",
    "    # get classifier result tables\n",
    "    #val tables\n",
    "    val_pd['secret_gt']=val_pd[secret_tag]\n",
    "    val_pd['utility_gt']=val_pd[utility_tag]\n",
    "    pu = model.predict_proba(x_val)\n",
    "    val_pd['utility_pest_0']=pu[:,0]\n",
    "    val_pd['utility_pest_1']=pu[:,1]\n",
    "    val_pd.drop(val_pd.columns.difference(\n",
    "        ['secret_gt','utility_gt', 'utility_pest_0', 'utility_pest_1']), 1, inplace=True)\n",
    "\n",
    "    #test tables\n",
    "    test_pd['secret_gt']=test_pd[secret_tag]\n",
    "    test_pd['utility_gt']=test_pd[utility_tag]\n",
    "    pu = model.predict_proba(x_test)\n",
    "    test_pd['utility_pest_0']=pu[:,0]\n",
    "    test_pd['utility_pest_1']=pu[:,1]\n",
    "    test_pd.drop(val_pd.columns.difference(\n",
    "    ['secret_gt','utility_gt', 'utility_pest_0', 'utility_pest_1']), 1, inplace=True)\n",
    "\n",
    "    \n",
    "\n",
    "    #Save results\n",
    "    save_dict={'df_val_result': val_pd, 'df_test_result':test_pd}\n",
    "    save_dict['priors']={'sensitve': a_prior}\n",
    "    save_dict['pareto_saves']=results\n",
    "    \n",
    "    \n",
    "    save_dir = os.path.join('results', dataset_name,dataset_name)\n",
    "    os.makedirs(save_dir, exist_ok=True)\n",
    "    with open( os.path.join(save_dir,'apstar_llr_{:d}.pkl'.format(split)),'wb') as f:\n",
    "        save_dict={'df_val_result': val_pd, 'df_test_result':test_pd}\n",
    "        pickle.dump(save_dict,f)"
   ]
  },
  {
   "cell_type": "code",
   "execution_count": null,
   "metadata": {},
   "outputs": [],
   "source": [
    "MMPF."
   ]
  }
 ],
 "metadata": {
  "kernelspec": {
   "display_name": "Python 3",
   "language": "python",
   "name": "python3"
  },
  "language_info": {
   "codemirror_mode": {
    "name": "ipython",
    "version": 3
   },
   "file_extension": ".py",
   "mimetype": "text/x-python",
   "name": "python",
   "nbconvert_exporter": "python",
   "pygments_lexer": "ipython3",
   "version": "3.7.3"
  }
 },
 "nbformat": 4,
 "nbformat_minor": 1
}
